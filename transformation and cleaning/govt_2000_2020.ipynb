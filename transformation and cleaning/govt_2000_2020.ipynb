{
  "cells": [
    {
      "cell_type": "code",
      "execution_count": null,
      "metadata": {
        "colab": {
          "base_uri": "https://localhost:8080/"
        },
        "id": "Q-bMws8SMl9k",
        "outputId": "4ea9232e-11c6-4a58-db74-2d6caa9eb652"
      },
      "outputs": [
        {
          "output_type": "stream",
          "name": "stdout",
          "text": [
            "Mounted at /content/drive\n"
          ]
        }
      ],
      "source": [
        "from google.colab import drive\n",
        "drive.mount('/content/drive')"
      ]
    },
    {
      "cell_type": "code",
      "execution_count": null,
      "metadata": {
        "colab": {
          "base_uri": "https://localhost:8080/"
        },
        "id": "_RhiOltgMy5o",
        "outputId": "beffcfd8-d887-45e9-80cd-ed8e555fa548"
      },
      "outputs": [
        {
          "output_type": "stream",
          "name": "stdout",
          "text": [
            "<pyspark.sql.session.SparkSession object at 0x79fb0c25c5f0>\n"
          ]
        }
      ],
      "source": [
        "from pyspark.sql import SparkSession\n",
        "\n",
        "spark = SparkSession.builder.appName(\"Weather Loader\").getOrCreate()\n",
        "print(spark)"
      ]
    },
    {
      "cell_type": "code",
      "execution_count": null,
      "metadata": {
        "colab": {
          "base_uri": "https://localhost:8080/"
        },
        "id": "3mNpIwkpM1Bm",
        "outputId": "bbe93715-8ab6-4005-c486-6f70ce272b0b"
      },
      "outputs": [
        {
          "output_type": "stream",
          "name": "stdout",
          "text": [
            "+--------------+----------------+----------------------+------------------------------+--------------------+----+----+---------+------+----+-----+---+-------------------+----+------+------+---+------------+----------+----------+\n",
            "|_sampling_date|           state|city_town_village_area|location_of_monitoring_station|    type_of_location| so2| no2|rspm_pm10|pm_2_5|year|month|day|               time|hour|minute|second|aqi|aqi_category|  latitude| longitude|\n",
            "+--------------+----------------+----------------------+------------------------------+--------------------+----+----+---------+------+----+-----+---+-------------------+----+------+------+---+------------+----------+----------+\n",
            "|7/1/2014 12:48|       Meghalaya|                 Dawki|          Terrace building,...|Residential, Rura...| 2.0|11.0|     52.0|  NULL|2014|    7|  1|2025-10-03 12:48:04|  12|    48|     4| 52|Satisfactory|25.1856343|92.0215717|\n",
            "|1/1/2014 12:25|             Goa|                Panaji|          Infront of Old GS...|Residential, Rura...| 6.0| 9.0|     61.0|  NULL|2014|    1|  1|2025-10-03 12:25:16|  12|    25|    16| 61|Satisfactory|15.4989946|73.8282141|\n",
            "| 1/1/2010 4:37|      Chandigarh|            Chandigarh|          Modern Foods, Ind...|     Industrial Area| 2.0|36.0|     95.0|  NULL|2010|    1|  1|2025-10-03 04:37:47|   4|    37|    47| 95|Satisfactory|30.7334421|76.7797143|\n",
            "| 2/1/2004 4:41|           Assam|              Guwahati|          Head Office, Bamu...|Residential, Rura...| 2.0|16.2|    173.0|  NULL|2004|    2|  1|2025-10-03 04:41:29|   4|    41|    29|149|    Moderate|26.1805978| 91.753943|\n",
            "| 2/1/2014 4:56|     West Bengal|        South Suburban|          Amtala, South Sub...|     Industrial Area|13.0|75.0|    185.0|  NULL|2014|    2|  1|2025-10-03 04:56:23|   4|    56|    23|157|    Moderate|22.5097756|88.3214307|\n",
            "| 7/7/2014 4:58|      Puducherry|              Karaikal|          B.Ed College (PKC...|Residential, Rura...| 6.0| 9.0|     16.0|  NULL|2014|    7|  7|2025-10-03 04:58:12|   4|    58|    12| 16|        Good|  10.91571|79.8375761|\n",
            "| 2/1/2014 5:05|         Mizoram|                Aizawl|          Khatla, M.G-Road,...|Residential, Rura...| 2.0| 5.0|     53.0|  NULL|2014|    2|  1|2025-10-03 05:05:24|   5|     5|    24| 53|Satisfactory|23.7277631|92.7179947|\n",
            "| 1/1/2008 5:05|         Mizoram|                Aizawl|                     Bawngkawn|Residential and o...|NULL| 9.4|     60.0|  NULL|2008|    1|  1|2025-10-03 05:05:05|   5|     5|     5| 60|Satisfactory|23.7534536|   92.7281|\n",
            "| 1/1/2014 4:38|      Chandigarh|            Chandigarh|          Modern Foods, Ind...|     Industrial Area| 2.0|16.0|    247.0|  NULL|2014|    1|  1|2025-10-03 04:38:08|   4|    38|     8|198|    Moderate|30.7334421|76.7797143|\n",
            "| 6/1/2007 4:47|  Madhya Pradesh|                Bhopal|                    Govindpura|    Industrial Areas| 6.3|12.7|     69.0|  NULL|2007|    6|  1|2025-10-03 04:47:55|   4|    47|    55| 69|Satisfactory|23.2460198|77.4467044|\n",
            "| 2/1/2004 4:50|     Maharashtra|                Nashik|          RTO Colony Tank, ...|Residential, Rura...|42.0|28.0|     93.0|  NULL|2004|    2|  1|2025-10-03 04:50:31|   4|    50|    31| 93|Satisfactory|20.0112475|73.7902364|\n",
            "| 3/1/2012 5:01|          Kerala|             Alappuzha|          DC Mills Pathirap...|     Industrial Area| 2.0| 4.5|     60.0|  NULL|2012|    3|  1|2025-10-03 05:01:07|   5|     1|     7| 60|Satisfactory| 9.5006651|76.4124143|\n",
            "| 2/8/2005 5:05|        Nagaland|               Dimapur|                   Bank Colony|Residential and o...|NULL|NULL|     20.0|  NULL|2005|    2|  8|2025-10-03 05:05:47|   5|     5|    47| 20|        Good|25.9041378|93.7177609|\n",
            "| 3/1/2009 5:10|    Chhattisgarh|          Bhilai Nagar|                M.P.L.U. Nigam|    Industrial Areas|27.0|32.8|    162.0|  NULL|2009|    3|  1|2025-10-03 05:10:10|   5|    10|    10|142|    Moderate|21.2011836|81.3352266|\n",
            "| 1/1/2013 5:20|Himachal Pradesh|                 Baddi|                 Housing Board|Residential, Rura...| 3.0|20.0|    120.0|  NULL|2013|    1|  1|2025-10-03 05:20:17|   5|    20|    17|114|    Moderate|30.9763026|76.7674001|\n",
            "| 3/7/2009 6:57|  Andhra Pradesh|                Guntur|          Hindu College Guntur|Residential and o...| 4.0| 9.0|     79.0|  NULL|2009|    3|  7|2025-10-03 06:57:21|   6|    57|    21| 79|Satisfactory| 16.292349| 80.443957|\n",
            "| 3/1/2013 6:35|         Mizoram|                Aizawl|          Khatla, M.G-Road,...|Residential, Rura...| 2.0| 4.5|     49.0|  NULL|2013|    3|  1|2025-10-03 06:35:20|   6|    35|    20| 49|        Good|23.7277631|92.7179947|\n",
            "|2/1/2014 11:38|       Rajasthan|                 Alwar|          Regional Office, ...|Residential, Rura...| 8.0|18.0|    330.0|  NULL|2014|    2|  1|2025-10-03 11:38:39|  11|    38|    39|280|        Poor|27.4140048|76.6170387|\n",
            "| 3/1/2009 6:35|        Nagaland|               Dimapur|                   Bank Colony|Residential and o...|NULL|17.5|     62.0|  NULL|2009|    3|  1|2025-10-03 06:35:44|   6|    35|    44| 62|Satisfactory|25.9041378|93.7177609|\n",
            "| 4/4/2006 6:36|          Punjab|              Amritsar|           Nagina Soap Factory|    Industrial Areas|11.8|31.8|     NULL|  NULL|2006|    4|  4|2025-10-03 06:36:37|   6|    36|    37| 40|        Good|31.6356659|74.8787496|\n",
            "+--------------+----------------+----------------------+------------------------------+--------------------+----+----+---------+------+----+-----+---+-------------------+----+------+------+---+------------+----------+----------+\n",
            "only showing top 20 rows\n",
            "\n"
          ]
        }
      ],
      "source": [
        "historic_df = spark.read.csv(\"/content/drive/MyDrive/air_quality_final_20250929_105402.csv\", header=True, inferSchema=True)\n",
        "\n",
        "# Filter out rows with year less than 2000 and missing aqi values\n",
        "historic_df = historic_df.filter((historic_df.year >= 2000) & (historic_df.aqi.isNotNull()))\n",
        "\n",
        "# Drop the specified columns\n",
        "historic_df = historic_df.drop(\"_c21\", \"geocoding_source\")\n",
        "\n",
        "historic_df.show()"
      ]
    },
    {
      "cell_type": "code",
      "source": [
        "from pyspark.sql.functions import to_timestamp\n",
        "\n",
        "historic_df = historic_df.withColumn(\"datetime\", to_timestamp(historic_df[\"_sampling_date\"], \"M/d/yyyy H:m\"))\n",
        "\n",
        "historic_df.show()"
      ],
      "metadata": {
        "colab": {
          "base_uri": "https://localhost:8080/"
        },
        "id": "_UGDobeO5KYh",
        "outputId": "b855571e-e8ca-4c7b-a0e5-efbe37fb3658"
      },
      "execution_count": null,
      "outputs": [
        {
          "output_type": "stream",
          "name": "stdout",
          "text": [
            "+--------------+----------------+----------------------+------------------------------+--------------------+----+----+---------+------+----+-----+---+-------------------+----+------+------+---+------------+----------+----------+-------------------+\n",
            "|_sampling_date|           state|city_town_village_area|location_of_monitoring_station|    type_of_location| so2| no2|rspm_pm10|pm_2_5|year|month|day|               time|hour|minute|second|aqi|aqi_category|  latitude| longitude|           datetime|\n",
            "+--------------+----------------+----------------------+------------------------------+--------------------+----+----+---------+------+----+-----+---+-------------------+----+------+------+---+------------+----------+----------+-------------------+\n",
            "|7/1/2014 12:48|       Meghalaya|                 Dawki|          Terrace building,...|Residential, Rura...| 2.0|11.0|     52.0|  NULL|2014|    7|  1|2025-10-03 12:48:04|  12|    48|     4| 52|Satisfactory|25.1856343|92.0215717|2014-07-01 12:48:00|\n",
            "|1/1/2014 12:25|             Goa|                Panaji|          Infront of Old GS...|Residential, Rura...| 6.0| 9.0|     61.0|  NULL|2014|    1|  1|2025-10-03 12:25:16|  12|    25|    16| 61|Satisfactory|15.4989946|73.8282141|2014-01-01 12:25:00|\n",
            "| 1/1/2010 4:37|      Chandigarh|            Chandigarh|          Modern Foods, Ind...|     Industrial Area| 2.0|36.0|     95.0|  NULL|2010|    1|  1|2025-10-03 04:37:47|   4|    37|    47| 95|Satisfactory|30.7334421|76.7797143|2010-01-01 04:37:00|\n",
            "| 2/1/2004 4:41|           Assam|              Guwahati|          Head Office, Bamu...|Residential, Rura...| 2.0|16.2|    173.0|  NULL|2004|    2|  1|2025-10-03 04:41:29|   4|    41|    29|149|    Moderate|26.1805978| 91.753943|2004-02-01 04:41:00|\n",
            "| 2/1/2014 4:56|     West Bengal|        South Suburban|          Amtala, South Sub...|     Industrial Area|13.0|75.0|    185.0|  NULL|2014|    2|  1|2025-10-03 04:56:23|   4|    56|    23|157|    Moderate|22.5097756|88.3214307|2014-02-01 04:56:00|\n",
            "| 7/7/2014 4:58|      Puducherry|              Karaikal|          B.Ed College (PKC...|Residential, Rura...| 6.0| 9.0|     16.0|  NULL|2014|    7|  7|2025-10-03 04:58:12|   4|    58|    12| 16|        Good|  10.91571|79.8375761|2014-07-07 04:58:00|\n",
            "| 2/1/2014 5:05|         Mizoram|                Aizawl|          Khatla, M.G-Road,...|Residential, Rura...| 2.0| 5.0|     53.0|  NULL|2014|    2|  1|2025-10-03 05:05:24|   5|     5|    24| 53|Satisfactory|23.7277631|92.7179947|2014-02-01 05:05:00|\n",
            "| 1/1/2008 5:05|         Mizoram|                Aizawl|                     Bawngkawn|Residential and o...|NULL| 9.4|     60.0|  NULL|2008|    1|  1|2025-10-03 05:05:05|   5|     5|     5| 60|Satisfactory|23.7534536|   92.7281|2008-01-01 05:05:00|\n",
            "| 1/1/2014 4:38|      Chandigarh|            Chandigarh|          Modern Foods, Ind...|     Industrial Area| 2.0|16.0|    247.0|  NULL|2014|    1|  1|2025-10-03 04:38:08|   4|    38|     8|198|    Moderate|30.7334421|76.7797143|2014-01-01 04:38:00|\n",
            "| 6/1/2007 4:47|  Madhya Pradesh|                Bhopal|                    Govindpura|    Industrial Areas| 6.3|12.7|     69.0|  NULL|2007|    6|  1|2025-10-03 04:47:55|   4|    47|    55| 69|Satisfactory|23.2460198|77.4467044|2007-06-01 04:47:00|\n",
            "| 2/1/2004 4:50|     Maharashtra|                Nashik|          RTO Colony Tank, ...|Residential, Rura...|42.0|28.0|     93.0|  NULL|2004|    2|  1|2025-10-03 04:50:31|   4|    50|    31| 93|Satisfactory|20.0112475|73.7902364|2004-02-01 04:50:00|\n",
            "| 3/1/2012 5:01|          Kerala|             Alappuzha|          DC Mills Pathirap...|     Industrial Area| 2.0| 4.5|     60.0|  NULL|2012|    3|  1|2025-10-03 05:01:07|   5|     1|     7| 60|Satisfactory| 9.5006651|76.4124143|2012-03-01 05:01:00|\n",
            "| 2/8/2005 5:05|        Nagaland|               Dimapur|                   Bank Colony|Residential and o...|NULL|NULL|     20.0|  NULL|2005|    2|  8|2025-10-03 05:05:47|   5|     5|    47| 20|        Good|25.9041378|93.7177609|2005-02-08 05:05:00|\n",
            "| 3/1/2009 5:10|    Chhattisgarh|          Bhilai Nagar|                M.P.L.U. Nigam|    Industrial Areas|27.0|32.8|    162.0|  NULL|2009|    3|  1|2025-10-03 05:10:10|   5|    10|    10|142|    Moderate|21.2011836|81.3352266|2009-03-01 05:10:00|\n",
            "| 1/1/2013 5:20|Himachal Pradesh|                 Baddi|                 Housing Board|Residential, Rura...| 3.0|20.0|    120.0|  NULL|2013|    1|  1|2025-10-03 05:20:17|   5|    20|    17|114|    Moderate|30.9763026|76.7674001|2013-01-01 05:20:00|\n",
            "| 3/7/2009 6:57|  Andhra Pradesh|                Guntur|          Hindu College Guntur|Residential and o...| 4.0| 9.0|     79.0|  NULL|2009|    3|  7|2025-10-03 06:57:21|   6|    57|    21| 79|Satisfactory| 16.292349| 80.443957|2009-03-07 06:57:00|\n",
            "| 3/1/2013 6:35|         Mizoram|                Aizawl|          Khatla, M.G-Road,...|Residential, Rura...| 2.0| 4.5|     49.0|  NULL|2013|    3|  1|2025-10-03 06:35:20|   6|    35|    20| 49|        Good|23.7277631|92.7179947|2013-03-01 06:35:00|\n",
            "|2/1/2014 11:38|       Rajasthan|                 Alwar|          Regional Office, ...|Residential, Rura...| 8.0|18.0|    330.0|  NULL|2014|    2|  1|2025-10-03 11:38:39|  11|    38|    39|280|        Poor|27.4140048|76.6170387|2014-02-01 11:38:00|\n",
            "| 3/1/2009 6:35|        Nagaland|               Dimapur|                   Bank Colony|Residential and o...|NULL|17.5|     62.0|  NULL|2009|    3|  1|2025-10-03 06:35:44|   6|    35|    44| 62|Satisfactory|25.9041378|93.7177609|2009-03-01 06:35:00|\n",
            "| 4/4/2006 6:36|          Punjab|              Amritsar|           Nagina Soap Factory|    Industrial Areas|11.8|31.8|     NULL|  NULL|2006|    4|  4|2025-10-03 06:36:37|   6|    36|    37| 40|        Good|31.6356659|74.8787496|2006-04-04 06:36:00|\n",
            "+--------------+----------------+----------------------+------------------------------+--------------------+----+----+---------+------+----+-----+---+-------------------+----+------+------+---+------------+----------+----------+-------------------+\n",
            "only showing top 20 rows\n",
            "\n"
          ]
        }
      ]
    },
    {
      "cell_type": "code",
      "source": [
        "historic_df = historic_df.drop(\"_sampling_date\",\"second\",\"time\")"
      ],
      "metadata": {
        "id": "p4__1JBB4Wko"
      },
      "execution_count": null,
      "outputs": []
    },
    {
      "cell_type": "code",
      "execution_count": null,
      "metadata": {
        "id": "gtTuZlF_Pb_V",
        "colab": {
          "base_uri": "https://localhost:8080/"
        },
        "outputId": "3a702899-0f3f-440d-de11-cfed43a159af"
      },
      "outputs": [
        {
          "output_type": "stream",
          "name": "stdout",
          "text": [
            "Total unique (lat,lon,year) pairs: 2495\n",
            "+----------+----------+----+\n",
            "|  latitude| longitude|year|\n",
            "+----------+----------+----+\n",
            "| 17.360589|78.4740613|2014|\n",
            "|23.3701968|85.3249027|2004|\n",
            "|25.6618755|94.1019156|2011|\n",
            "|26.9153191|75.8169299|2012|\n",
            "|23.1883478|79.9092722|2005|\n",
            "+----------+----------+----+\n",
            "only showing top 5 rows\n",
            "\n"
          ]
        }
      ],
      "source": [
        "# Get unique location-year pairs using Spark DataFrame operations\n",
        "unique_loc_year_spark = historic_df.select('latitude', 'longitude', 'year').distinct()\n",
        "\n",
        "# Show the count of unique location-year pairs\n",
        "print(\"Total unique (lat,lon,year) pairs:\", unique_loc_year_spark.count())\n",
        "\n",
        "# Display the first few rows of the unique location-year pairs\n",
        "unique_loc_year_spark.show(n=5)"
      ]
    },
    {
      "cell_type": "code",
      "execution_count": null,
      "metadata": {
        "id": "MAZfp4vOQOHe"
      },
      "outputs": [],
      "source": [
        "import os\n",
        "import pandas as pd\n",
        "import requests\n",
        "import time\n",
        "import json\n",
        "from tqdm import tqdm\n",
        "from concurrent.futures import ThreadPoolExecutor, as_completed\n",
        "from pyspark.sql import SparkSession\n",
        "from pyspark.sql.types import StructType, StructField, DoubleType, TimestampType\n",
        "\n",
        "# Initialize Spark session\n",
        "spark = SparkSession.builder.appName(\"WeatherFetcher\").getOrCreate()\n",
        "\n",
        "# Schema for final Spark DataFrame\n",
        "weather_schema = StructType([\n",
        "    StructField(\"datetime\", TimestampType(), True),\n",
        "    StructField(\"temperature\", DoubleType(), True),\n",
        "    StructField(\"wind\", DoubleType(), True),\n",
        "    StructField(\"humidity\", DoubleType(), True),\n",
        "    StructField(\"lat\", DoubleType(), True),\n",
        "    StructField(\"lon\", DoubleType(), True)\n",
        "])\n",
        "\n",
        "# ----------------------------\n",
        "# Function to fetch weather\n",
        "# ----------------------------\n",
        "def fetch_weather(lat, lon, year, max_retries=5):\n",
        "    lat = float(lat)\n",
        "    lon = float(lon)\n",
        "    year = int(year)\n",
        "\n",
        "    start = f\"{year}-01-01\"\n",
        "    end   = f\"{year}-12-31\"\n",
        "\n",
        "    params = {\n",
        "        \"latitude\": lat,\n",
        "        \"longitude\": lon,\n",
        "        \"start_date\": start,\n",
        "        \"end_date\": end,\n",
        "        \"hourly\": [\"temperature_2m\", \"windspeed_10m\", \"relative_humidity_2m\"],\n",
        "        \"timezone\": \"Asia/Kolkata\"\n",
        "    }\n",
        "\n",
        "    retries = 0\n",
        "    while retries < max_retries:\n",
        "        try:\n",
        "            r = requests.get(\"https://archive-api.open-meteo.com/v1/archive\", params=params, timeout=60)\n",
        "            r.raise_for_status()\n",
        "            data = r.json()\n",
        "\n",
        "            if \"hourly\" not in data or not data[\"hourly\"][\"time\"]:\n",
        "                return None\n",
        "\n",
        "            pdf = pd.DataFrame({\n",
        "                \"datetime\": pd.to_datetime(data[\"hourly\"][\"time\"]),\n",
        "                \"temperature\": data[\"hourly\"][\"temperature_2m\"],\n",
        "                \"wind\": data[\"hourly\"][\"windspeed_10m\"],\n",
        "                \"humidity\": data[\"hourly\"][\"relative_humidity_2m\"],\n",
        "                \"lat\": lat,\n",
        "                \"lon\": lon\n",
        "            })\n",
        "            return pdf\n",
        "\n",
        "        except (requests.exceptions.RequestException, json.JSONDecodeError):\n",
        "            retries += 1\n",
        "            time.sleep(2 ** retries)  # exponential backoff\n",
        "        except Exception as e:\n",
        "            print(f\"Unexpected error for {lat},{lon},{year}: {e}\")\n",
        "            return None\n",
        "    return None\n",
        "\n",
        "# ----------------------------\n",
        "# MAIN PIPELINE\n",
        "# ----------------------------\n",
        "# Get your unique (lat, lon, year) pairs from Spark\n",
        "pairs = unique_loc_year_spark.collect()\n",
        "print(f\"Total tasks: {len(pairs)}\")\n",
        "\n",
        "results = []\n",
        "\n",
        "# Run parallel fetching\n",
        "with ThreadPoolExecutor(max_workers=20) as executor:  # adjust workers depending on CPU/internet\n",
        "    futures = {\n",
        "        executor.submit(fetch_weather, row.latitude, row.longitude, row.year): row\n",
        "        for row in pairs\n",
        "    }\n",
        "\n",
        "    for future in tqdm(as_completed(futures), total=len(futures), desc=\"Fetching weather\"):\n",
        "        pdf = future.result()\n",
        "        if pdf is not None:\n",
        "            results.append(pdf)\n",
        "\n",
        "# ----------------------------\n",
        "# Convert results to Spark DataFrame\n",
        "# ----------------------------\n",
        "if results:\n",
        "    all_weather_pd = pd.concat(results, ignore_index=True)\n",
        "    weather_df = spark.createDataFrame(all_weather_pd, schema=weather_schema)\n",
        "\n",
        "    # Save fewer parquet files\n",
        "    weather_df.coalesce(10).write.mode(\"overwrite\").parquet(\n",
        "        \"C:/Users/SNEHIL/Downloads/Air_quality_Monitoring/final_weather_data_all\"\n",
        "    )\n",
        "    print(\"✅ Weather data saved successfully!\")\n",
        "else:\n",
        "    print(\"⚠️ No data fetched.\")\n"
      ]
    },
    {
      "cell_type": "code",
      "execution_count": null,
      "metadata": {
        "id": "lr2FMJS8S3cB"
      },
      "outputs": [],
      "source": [
        "weather_df = spark.read.parquet('/content/drive/MyDrive/all_weather_pd_compatible_final.parquet')"
      ]
    },
    {
      "cell_type": "code",
      "source": [
        "weather_df.show()"
      ],
      "metadata": {
        "colab": {
          "base_uri": "https://localhost:8080/"
        },
        "id": "EDa0B8Q238lS",
        "outputId": "5250a3b3-0880-4088-92c6-46f833798369"
      },
      "execution_count": null,
      "outputs": [
        {
          "output_type": "stream",
          "name": "stdout",
          "text": [
            "+-------------------+-----------+----+--------+---------+----------+\n",
            "|           datetime|temperature|wind|humidity|      lat|       lon|\n",
            "+-------------------+-----------+----+--------+---------+----------+\n",
            "|2013-01-01 00:00:00|       25.2| 7.1|      89|9.5006651|76.4124143|\n",
            "|2013-01-01 01:00:00|       25.1| 6.0|      89|9.5006651|76.4124143|\n",
            "|2013-01-01 02:00:00|       24.7| 4.7|      91|9.5006651|76.4124143|\n",
            "|2013-01-01 03:00:00|       24.3| 3.5|      93|9.5006651|76.4124143|\n",
            "|2013-01-01 04:00:00|       24.1| 4.6|      94|9.5006651|76.4124143|\n",
            "|2013-01-01 05:00:00|       23.9| 4.1|      94|9.5006651|76.4124143|\n",
            "|2013-01-01 06:00:00|       23.6| 3.5|      96|9.5006651|76.4124143|\n",
            "|2013-01-01 07:00:00|       24.2| 4.7|      95|9.5006651|76.4124143|\n",
            "|2013-01-01 08:00:00|       26.1| 5.4|      85|9.5006651|76.4124143|\n",
            "|2013-01-01 09:00:00|       27.2| 4.5|      79|9.5006651|76.4124143|\n",
            "|2013-01-01 10:00:00|       28.4| 2.6|      73|9.5006651|76.4124143|\n",
            "|2013-01-01 11:00:00|       29.4| 2.6|      67|9.5006651|76.4124143|\n",
            "|2013-01-01 12:00:00|       30.0| 3.4|      64|9.5006651|76.4124143|\n",
            "|2013-01-01 13:00:00|       30.4| 4.3|      62|9.5006651|76.4124143|\n",
            "|2013-01-01 14:00:00|       30.3| 6.2|      63|9.5006651|76.4124143|\n",
            "|2013-01-01 15:00:00|       30.1| 8.6|      64|9.5006651|76.4124143|\n",
            "|2013-01-01 16:00:00|       29.5| 8.6|      67|9.5006651|76.4124143|\n",
            "|2013-01-01 17:00:00|       28.9| 7.2|      71|9.5006651|76.4124143|\n",
            "|2013-01-01 18:00:00|       28.0| 4.6|      75|9.5006651|76.4124143|\n",
            "|2013-01-01 19:00:00|       27.4| 4.4|      80|9.5006651|76.4124143|\n",
            "+-------------------+-----------+----+--------+---------+----------+\n",
            "only showing top 20 rows\n",
            "\n"
          ]
        }
      ]
    },
    {
      "cell_type": "code",
      "metadata": {
        "colab": {
          "base_uri": "https://localhost:8080/"
        },
        "id": "249b0c05",
        "outputId": "1703bc2b-3424-4800-dea4-1a91225e605e"
      },
      "source": [
        "from pyspark.sql.functions import date_trunc\n",
        "\n",
        "# Truncate the datetime column in historic_df to the hour\n",
        "historic_df_hourly = historic_df.withColumn(\"datetime_hourly\", date_trunc(\"hour\", historic_df[\"datetime\"]))\n",
        "\n",
        "# Select only the desired columns from weather_df\n",
        "weather_df_selected = weather_df.select(\"datetime\", \"temperature\", \"wind\", \"humidity\", \"lat\", \"lon\")\n",
        "\n",
        "# Join the two dataframes on latitude, longitude, and the hour part of the datetime\n",
        "joined_df = historic_df_hourly.join(\n",
        "    weather_df_selected,\n",
        "    (historic_df_hourly.latitude == weather_df_selected.lat) &\n",
        "    (historic_df_hourly.longitude == weather_df_selected.lon) &\n",
        "    (historic_df_hourly.datetime_hourly == weather_df_selected.datetime),\n",
        "    \"inner\"\n",
        ")\n",
        "\n",
        "# Drop the redundant latitude, longitude and datetime_hourly columns from historic_df_hourly\n",
        "joined_df = joined_df.drop(historic_df_hourly.latitude).drop(historic_df_hourly.longitude).drop(\"datetime_hourly\")\n",
        "\n",
        "\n",
        "joined_df.show()"
      ],
      "execution_count": null,
      "outputs": [
        {
          "output_type": "stream",
          "name": "stdout",
          "text": [
            "+------+----------------------+------------------------------+--------------------+---+----+---------+------+----+-----+---+----+------+---+------------+-------------------+-------------------+-----------+----+--------+---------+----------+\n",
            "| state|city_town_village_area|location_of_monitoring_station|    type_of_location|so2| no2|rspm_pm10|pm_2_5|year|month|day|hour|minute|aqi|aqi_category|           datetime|           datetime|temperature|wind|humidity|      lat|       lon|\n",
            "+------+----------------------+------------------------------+--------------------+---+----+---------+------+----+-----+---+----+------+---+------------+-------------------+-------------------+-----------+----+--------+---------+----------+\n",
            "|Kerala|            Trivandrum|                  PRS Hospital|Residential and o...|7.1|23.2|     63.0|  NULL|2005|    6| 21|   4|    45| 63|Satisfactory|2005-06-21 04:45:00|2005-06-21 04:00:00|       23.8|12.0|      95|8.4811163|76.9592286|\n",
            "|Kerala|            Trivandrum|                  PRS Hospital|Residential and o...|6.4|25.0|     65.0|  NULL|2005|    6| 24|   4|    45| 65|Satisfactory|2005-06-24 04:45:00|2005-06-24 04:00:00|       24.0|15.3|      95|8.4811163|76.9592286|\n",
            "|Kerala|            Trivandrum|                  PRS Hospital|Residential and o...|6.6|25.3|     74.0|  NULL|2005|    7| 10|   4|    45| 74|Satisfactory|2005-07-10 04:45:00|2005-07-10 04:00:00|       23.8|23.7|      93|8.4811163|76.9592286|\n",
            "|Kerala|            Trivandrum|                  PRS Hospital|Residential and o...|7.1|24.6|     63.0|  NULL|2005|    7| 15|   4|    45| 63|Satisfactory|2005-07-15 04:45:00|2005-07-15 04:00:00|       24.0|11.6|      94|8.4811163|76.9592286|\n",
            "|Kerala|            Trivandrum|                  PRS Hospital|Residential and o...|5.7|18.0|     46.0|  NULL|2005|   10| 13|   4|    45| 46|        Good|2005-10-13 04:45:00|2005-10-13 04:00:00|       23.6|11.6|      98|8.4811163|76.9592286|\n",
            "|Kerala|            Trivandrum|                  PRS Hospital|Residential and o...|6.1|24.4|     87.0|  NULL|2005|   10| 18|   4|    45| 87|Satisfactory|2005-10-18 04:45:00|2005-10-18 04:00:00|       24.6| 8.6|      88|8.4811163|76.9592286|\n",
            "|Kerala|            Trivandrum|                  PRS Hospital|Residential and o...|5.4|24.1|     51.0|  NULL|2005|   11| 11|   4|    45| 51|Satisfactory|2005-11-11 04:45:00|2005-11-11 04:00:00|       23.5| 4.7|      98|8.4811163|76.9592286|\n",
            "|Kerala|            Trivandrum|                  PRS Hospital|Residential and o...|5.7|27.8|     71.0|  NULL|2005|   12| 30|   4|    45| 71|Satisfactory|2005-12-30 04:45:00|2005-12-30 04:00:00|       23.0| 8.1|      87|8.4811163|76.9592286|\n",
            "|Kerala|            Trivandrum|                  PRS Hospital|Residential and o...|5.5|26.7|     74.0|  NULL|2005|   12| 31|   4|    45| 74|Satisfactory|2005-12-31 04:45:00|2005-12-31 04:00:00|       22.1| 7.6|      87|8.4811163|76.9592286|\n",
            "|Kerala|            Trivandrum|                  PRS Hospital|Residential and o...|6.1|21.8|     62.0|  NULL|2006|    2| 17|   4|    44| 62|Satisfactory|2006-02-17 04:44:00|2006-02-17 04:00:00|       23.6| 9.1|      88|8.4811163|76.9592286|\n",
            "|Kerala|            Trivandrum|                  PRS Hospital|Residential and o...|6.4|23.6|     68.0|  NULL|2006|    3| 24|   4|    44| 68|Satisfactory|2006-03-24 04:44:00|2006-03-24 04:00:00|       25.2| 9.0|      91|8.4811163|76.9592286|\n",
            "|Kerala|            Trivandrum|                  PRS Hospital|Residential and o...|6.8|25.3|     79.0|  NULL|2006|    4|  4|   4|    44| 79|Satisfactory|2006-04-04 04:44:00|2006-04-04 04:00:00|       25.4| 8.1|      91|8.4811163|76.9592286|\n",
            "|Kerala|            Trivandrum|                  PRS Hospital|Residential and o...|6.6|25.3|     66.0|  NULL|2006|    5| 26|   4|    44| 66|Satisfactory|2006-05-26 04:44:00|2006-05-26 04:00:00|       24.4|13.5|      91|8.4811163|76.9592286|\n",
            "|Kerala|            Trivandrum|                  PRS Hospital|Residential and o...|6.6|21.8|     89.0|  NULL|2006|    6| 20|   4|    44| 89|Satisfactory|2006-06-20 04:44:00|2006-06-20 04:00:00|       24.5|10.2|      93|8.4811163|76.9592286|\n",
            "|Kerala|            Trivandrum|                  PRS Hospital|Residential and o...|7.3|22.7|     65.0|  NULL|2006|    7|  4|   4|    44| 65|Satisfactory|2006-07-04 04:44:00|2006-07-04 04:00:00|       24.3|21.2|      96|8.4811163|76.9592286|\n",
            "|Kerala|            Trivandrum|                  PRS Hospital|Residential and o...|6.2|27.6|     54.0|  NULL|2006|    7| 18|   4|    44| 54|Satisfactory|2006-07-18 04:44:00|2006-07-18 04:00:00|       23.9|14.4|      95|8.4811163|76.9592286|\n",
            "|Kerala|            Trivandrum|                  PRS Hospital|Residential and o...|6.5|26.7|     59.0|  NULL|2006|    7| 28|   4|    44| 59|Satisfactory|2006-07-28 04:44:00|2006-07-28 04:00:00|       23.7|13.3|      92|8.4811163|76.9592286|\n",
            "|Kerala|            Trivandrum|                  PRS Hospital|Residential and o...|7.2|24.1|     69.0|  NULL|2006|    8|  9|   4|    44| 69|Satisfactory|2006-08-09 04:44:00|2006-08-09 04:00:00|       23.9| 9.2|      93|8.4811163|76.9592286|\n",
            "|Kerala|            Trivandrum|                  PRS Hospital|Residential and o...|5.9|21.3|     74.0|  NULL|2006|    8| 15|   4|    44| 74|Satisfactory|2006-08-15 04:44:00|2006-08-15 04:00:00|       23.7|14.7|      92|8.4811163|76.9592286|\n",
            "|Kerala|            Trivandrum|                  PRS Hospital|Residential and o...|6.6|24.2|     78.0|  NULL|2006|    8| 18|   4|    44| 78|Satisfactory|2006-08-18 04:44:00|2006-08-18 04:00:00|       23.6|15.9|      96|8.4811163|76.9592286|\n",
            "+------+----------------------+------------------------------+--------------------+---+----+---------+------+----+-----+---+----+------+---+------------+-------------------+-------------------+-----------+----+--------+---------+----------+\n",
            "only showing top 20 rows\n",
            "\n"
          ]
        }
      ]
    },
    {
      "cell_type": "code",
      "source": [
        "from pyspark.sql.functions import col\n",
        "\n",
        "missing_temperature_count = joined_df1.filter(col(\"temperature\").isNull()).count()\n",
        "\n",
        "print(f\"Number of times temperature is missing: {missing_temperature_count}\")"
      ],
      "metadata": {
        "colab": {
          "base_uri": "https://localhost:8080/"
        },
        "id": "RIGnVaTB7Ugl",
        "outputId": "22ac5802-d15a-414d-8f5e-4d094e107090"
      },
      "execution_count": null,
      "outputs": [
        {
          "output_type": "stream",
          "name": "stdout",
          "text": [
            "Number of times temperature is missing: 0\n"
          ]
        }
      ]
    },
    {
      "cell_type": "code",
      "source": [
        "from pyspark.sql.functions import col\n",
        "\n",
        "# Filter for rows where temperature is missing\n",
        "missing_temperature_df = joined_df.filter(col(\"temperature\").isNull())\n",
        "\n",
        "# Select unique pairs of latitude, longitude, and year\n",
        "unique_missing_temp_locations = missing_temperature_df.select('latitude', 'longitude', 'year').distinct()\n",
        "\n",
        "# Show the unique pairs\n",
        "unique_missing_temp_locations.show()"
      ],
      "metadata": {
        "colab": {
          "base_uri": "https://localhost:8080/"
        },
        "id": "ixIKa39E74GV",
        "outputId": "f341e033-baa2-4558-efa8-11c5d5ae74d9"
      },
      "execution_count": null,
      "outputs": [
        {
          "output_type": "stream",
          "name": "stdout",
          "text": [
            "+--------+---------+----+\n",
            "|latitude|longitude|year|\n",
            "+--------+---------+----+\n",
            "+--------+---------+----+\n",
            "\n"
          ]
        }
      ]
    },
    {
      "cell_type": "code",
      "source": [
        "# Drop the redundant datetime column from weather_df_selected\n",
        "joined_df1 = joined_df.drop(weather_df_selected.datetime)\n",
        "\n",
        "joined_df.printSchema()"
      ],
      "metadata": {
        "colab": {
          "base_uri": "https://localhost:8080/"
        },
        "id": "NkTesemTimHG",
        "outputId": "cfe8d05b-54e9-4485-9233-52d8a3e37d1e"
      },
      "execution_count": null,
      "outputs": [
        {
          "output_type": "stream",
          "name": "stdout",
          "text": [
            "root\n",
            " |-- state: string (nullable = true)\n",
            " |-- city_town_village_area: string (nullable = true)\n",
            " |-- location_of_monitoring_station: string (nullable = true)\n",
            " |-- type_of_location: string (nullable = true)\n",
            " |-- so2: double (nullable = true)\n",
            " |-- no2: double (nullable = true)\n",
            " |-- rspm_pm10: double (nullable = true)\n",
            " |-- pm_2_5: double (nullable = true)\n",
            " |-- year: integer (nullable = true)\n",
            " |-- month: integer (nullable = true)\n",
            " |-- day: integer (nullable = true)\n",
            " |-- hour: integer (nullable = true)\n",
            " |-- minute: integer (nullable = true)\n",
            " |-- aqi: integer (nullable = true)\n",
            " |-- aqi_category: string (nullable = true)\n",
            " |-- datetime: timestamp (nullable = true)\n",
            " |-- datetime: timestamp_ntz (nullable = true)\n",
            " |-- temperature: double (nullable = true)\n",
            " |-- wind: double (nullable = true)\n",
            " |-- humidity: long (nullable = true)\n",
            "\n"
          ]
        }
      ]
    },
    {
      "cell_type": "code",
      "source": [
        "joined_df1.show(n=5)"
      ],
      "metadata": {
        "colab": {
          "base_uri": "https://localhost:8080/"
        },
        "id": "cRkvPrI3i2Pn",
        "outputId": "579b0eb9-d9f4-4f1e-b3af-c2c56a74c852"
      },
      "execution_count": null,
      "outputs": [
        {
          "output_type": "stream",
          "name": "stdout",
          "text": [
            "+------+----------------------+------------------------------+--------------------+---+----+---------+------+----+-----+---+----+------+---+------------+-------------------+-----------+----+--------+\n",
            "| state|city_town_village_area|location_of_monitoring_station|    type_of_location|so2| no2|rspm_pm10|pm_2_5|year|month|day|hour|minute|aqi|aqi_category|           datetime|temperature|wind|humidity|\n",
            "+------+----------------------+------------------------------+--------------------+---+----+---------+------+----+-----+---+----+------+---+------------+-------------------+-----------+----+--------+\n",
            "|Kerala|            Trivandrum|                  PRS Hospital|Residential and o...|7.1|23.2|     63.0|  NULL|2005|    6| 21|   4|    45| 63|Satisfactory|2005-06-21 04:45:00|       23.8|12.0|      95|\n",
            "|Kerala|            Trivandrum|                  PRS Hospital|Residential and o...|6.4|25.0|     65.0|  NULL|2005|    6| 24|   4|    45| 65|Satisfactory|2005-06-24 04:45:00|       24.0|15.3|      95|\n",
            "|Kerala|            Trivandrum|                  PRS Hospital|Residential and o...|6.6|25.3|     74.0|  NULL|2005|    7| 10|   4|    45| 74|Satisfactory|2005-07-10 04:45:00|       23.8|23.7|      93|\n",
            "|Kerala|            Trivandrum|                  PRS Hospital|Residential and o...|7.1|24.6|     63.0|  NULL|2005|    7| 15|   4|    45| 63|Satisfactory|2005-07-15 04:45:00|       24.0|11.6|      94|\n",
            "|Kerala|            Trivandrum|                  PRS Hospital|Residential and o...|5.7|18.0|     46.0|  NULL|2005|   10| 13|   4|    45| 46|        Good|2005-10-13 04:45:00|       23.6|11.6|      98|\n",
            "+------+----------------------+------------------------------+--------------------+---+----+---------+------+----+-----+---+----+------+---+------------+-------------------+-----------+----+--------+\n",
            "only showing top 5 rows\n",
            "\n"
          ]
        }
      ]
    },
    {
      "cell_type": "code",
      "source": [
        "# Drop the redundant latitude, longitude and datetime_hourly columns from historic_df_hourly\n",
        "joined_df = joined_df.drop( \"lat\", \"lon\")\n",
        "joined_df.show()"
      ],
      "metadata": {
        "colab": {
          "base_uri": "https://localhost:8080/"
        },
        "id": "vY0GfciW4mR1",
        "outputId": "0bb2a396-05b3-4db0-f68f-ba5b5ae8cbd5"
      },
      "execution_count": null,
      "outputs": [
        {
          "output_type": "stream",
          "name": "stdout",
          "text": [
            "+------+----------------------+------------------------------+--------------------+---+----+---------+------+----+-----+---+----+------+---+------------+-------------------+-------------------+-----------+----+--------+\n",
            "| state|city_town_village_area|location_of_monitoring_station|    type_of_location|so2| no2|rspm_pm10|pm_2_5|year|month|day|hour|minute|aqi|aqi_category|           datetime|           datetime|temperature|wind|humidity|\n",
            "+------+----------------------+------------------------------+--------------------+---+----+---------+------+----+-----+---+----+------+---+------------+-------------------+-------------------+-----------+----+--------+\n",
            "|Kerala|            Trivandrum|                  PRS Hospital|Residential and o...|7.1|23.2|     63.0|  NULL|2005|    6| 21|   4|    45| 63|Satisfactory|2005-06-21 04:45:00|2005-06-21 04:00:00|       23.8|12.0|      95|\n",
            "|Kerala|            Trivandrum|                  PRS Hospital|Residential and o...|6.4|25.0|     65.0|  NULL|2005|    6| 24|   4|    45| 65|Satisfactory|2005-06-24 04:45:00|2005-06-24 04:00:00|       24.0|15.3|      95|\n",
            "|Kerala|            Trivandrum|                  PRS Hospital|Residential and o...|6.6|25.3|     74.0|  NULL|2005|    7| 10|   4|    45| 74|Satisfactory|2005-07-10 04:45:00|2005-07-10 04:00:00|       23.8|23.7|      93|\n",
            "|Kerala|            Trivandrum|                  PRS Hospital|Residential and o...|7.1|24.6|     63.0|  NULL|2005|    7| 15|   4|    45| 63|Satisfactory|2005-07-15 04:45:00|2005-07-15 04:00:00|       24.0|11.6|      94|\n",
            "|Kerala|            Trivandrum|                  PRS Hospital|Residential and o...|5.7|18.0|     46.0|  NULL|2005|   10| 13|   4|    45| 46|        Good|2005-10-13 04:45:00|2005-10-13 04:00:00|       23.6|11.6|      98|\n",
            "|Kerala|            Trivandrum|                  PRS Hospital|Residential and o...|6.1|24.4|     87.0|  NULL|2005|   10| 18|   4|    45| 87|Satisfactory|2005-10-18 04:45:00|2005-10-18 04:00:00|       24.6| 8.6|      88|\n",
            "|Kerala|            Trivandrum|                  PRS Hospital|Residential and o...|5.4|24.1|     51.0|  NULL|2005|   11| 11|   4|    45| 51|Satisfactory|2005-11-11 04:45:00|2005-11-11 04:00:00|       23.5| 4.7|      98|\n",
            "|Kerala|            Trivandrum|                  PRS Hospital|Residential and o...|5.7|27.8|     71.0|  NULL|2005|   12| 30|   4|    45| 71|Satisfactory|2005-12-30 04:45:00|2005-12-30 04:00:00|       23.0| 8.1|      87|\n",
            "|Kerala|            Trivandrum|                  PRS Hospital|Residential and o...|5.5|26.7|     74.0|  NULL|2005|   12| 31|   4|    45| 74|Satisfactory|2005-12-31 04:45:00|2005-12-31 04:00:00|       22.1| 7.6|      87|\n",
            "|Kerala|            Trivandrum|                  PRS Hospital|Residential and o...|6.1|21.8|     62.0|  NULL|2006|    2| 17|   4|    44| 62|Satisfactory|2006-02-17 04:44:00|2006-02-17 04:00:00|       23.6| 9.1|      88|\n",
            "|Kerala|            Trivandrum|                  PRS Hospital|Residential and o...|6.4|23.6|     68.0|  NULL|2006|    3| 24|   4|    44| 68|Satisfactory|2006-03-24 04:44:00|2006-03-24 04:00:00|       25.2| 9.0|      91|\n",
            "|Kerala|            Trivandrum|                  PRS Hospital|Residential and o...|6.8|25.3|     79.0|  NULL|2006|    4|  4|   4|    44| 79|Satisfactory|2006-04-04 04:44:00|2006-04-04 04:00:00|       25.4| 8.1|      91|\n",
            "|Kerala|            Trivandrum|                  PRS Hospital|Residential and o...|6.6|25.3|     66.0|  NULL|2006|    5| 26|   4|    44| 66|Satisfactory|2006-05-26 04:44:00|2006-05-26 04:00:00|       24.4|13.5|      91|\n",
            "|Kerala|            Trivandrum|                  PRS Hospital|Residential and o...|6.6|21.8|     89.0|  NULL|2006|    6| 20|   4|    44| 89|Satisfactory|2006-06-20 04:44:00|2006-06-20 04:00:00|       24.5|10.2|      93|\n",
            "|Kerala|            Trivandrum|                  PRS Hospital|Residential and o...|7.3|22.7|     65.0|  NULL|2006|    7|  4|   4|    44| 65|Satisfactory|2006-07-04 04:44:00|2006-07-04 04:00:00|       24.3|21.2|      96|\n",
            "|Kerala|            Trivandrum|                  PRS Hospital|Residential and o...|6.2|27.6|     54.0|  NULL|2006|    7| 18|   4|    44| 54|Satisfactory|2006-07-18 04:44:00|2006-07-18 04:00:00|       23.9|14.4|      95|\n",
            "|Kerala|            Trivandrum|                  PRS Hospital|Residential and o...|6.5|26.7|     59.0|  NULL|2006|    7| 28|   4|    44| 59|Satisfactory|2006-07-28 04:44:00|2006-07-28 04:00:00|       23.7|13.3|      92|\n",
            "|Kerala|            Trivandrum|                  PRS Hospital|Residential and o...|7.2|24.1|     69.0|  NULL|2006|    8|  9|   4|    44| 69|Satisfactory|2006-08-09 04:44:00|2006-08-09 04:00:00|       23.9| 9.2|      93|\n",
            "|Kerala|            Trivandrum|                  PRS Hospital|Residential and o...|5.9|21.3|     74.0|  NULL|2006|    8| 15|   4|    44| 74|Satisfactory|2006-08-15 04:44:00|2006-08-15 04:00:00|       23.7|14.7|      92|\n",
            "|Kerala|            Trivandrum|                  PRS Hospital|Residential and o...|6.6|24.2|     78.0|  NULL|2006|    8| 18|   4|    44| 78|Satisfactory|2006-08-18 04:44:00|2006-08-18 04:00:00|       23.6|15.9|      96|\n",
            "+------+----------------------+------------------------------+--------------------+---+----+---------+------+----+-----+---+----+------+---+------------+-------------------+-------------------+-----------+----+--------+\n",
            "only showing top 20 rows\n",
            "\n"
          ]
        }
      ]
    },
    {
      "cell_type": "code",
      "source": [
        "joined_df1.write.parquet(\"/content/drive/MyDrive/Air Quality Monitoring Data/ processed / govt_data.parquet\")"
      ],
      "metadata": {
        "id": "MydoeQ7ZiY71"
      },
      "execution_count": null,
      "outputs": []
    },
    {
      "cell_type": "code",
      "source": [
        "df1 = spark.read.parquet(\"/content/drive/MyDrive/Air Quality Monitoring Data/ processed /air_quality_with_weather1.parquet\")"
      ],
      "metadata": {
        "id": "Z47WsNahj4eL"
      },
      "execution_count": null,
      "outputs": []
    },
    {
      "cell_type": "code",
      "source": [
        "df1.printSchema()"
      ],
      "metadata": {
        "id": "olUyUmCykGY0",
        "outputId": "64f715a1-e17f-426d-b31b-96d3d75d5de8",
        "colab": {
          "base_uri": "https://localhost:8080/"
        }
      },
      "execution_count": null,
      "outputs": [
        {
          "output_type": "stream",
          "name": "stdout",
          "text": [
            "root\n",
            " |-- location_id: long (nullable = true)\n",
            " |-- sensors_id: long (nullable = true)\n",
            " |-- location: string (nullable = true)\n",
            " |-- datetime: timestamp_ntz (nullable = true)\n",
            " |-- lat: double (nullable = true)\n",
            " |-- lon: double (nullable = true)\n",
            " |-- year: integer (nullable = true)\n",
            " |-- month: integer (nullable = true)\n",
            " |-- day: integer (nullable = true)\n",
            " |-- time: string (nullable = true)\n",
            " |-- value_co: double (nullable = true)\n",
            " |-- value_no2: double (nullable = true)\n",
            " |-- value_o3: double (nullable = true)\n",
            " |-- value_pm10: double (nullable = true)\n",
            " |-- value_pm25: double (nullable = true)\n",
            " |-- value_so2: double (nullable = true)\n",
            " |-- datetime_hour: timestamp_ntz (nullable = true)\n",
            " |-- lat_round: double (nullable = true)\n",
            " |-- lon_round: double (nullable = true)\n",
            " |-- temperature: double (nullable = true)\n",
            " |-- wind: double (nullable = true)\n",
            " |-- humidity: long (nullable = true)\n",
            " |-- units: string (nullable = true)\n",
            " |-- AQI: double (nullable = true)\n",
            "\n"
          ]
        }
      ]
    }
  ],
  "metadata": {
    "colab": {
      "provenance": []
    },
    "kernelspec": {
      "display_name": "Python 3",
      "name": "python3"
    },
    "language_info": {
      "name": "python"
    }
  },
  "nbformat": 4,
  "nbformat_minor": 0
}